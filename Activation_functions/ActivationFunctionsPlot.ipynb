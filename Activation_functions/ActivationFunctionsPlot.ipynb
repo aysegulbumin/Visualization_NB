{
 "cells": [
  {
   "cell_type": "markdown",
   "metadata": {
    "toc": "true"
   },
   "source": [
    "# Table of Contents\n",
    " <p>"
   ]
  },
  {
   "cell_type": "code",
   "execution_count": 1,
   "metadata": {
    "collapsed": true
   },
   "outputs": [],
   "source": [
    "import numpy as np\n",
    "import matplotlib.pyplot as plt\n",
    "import matplotlib as mpl\n",
    "from matplotlib.ticker import FormatStrFormatter\n",
    "plt.style.use('ggplot')\n",
    "\n",
    "     \n",
    "# Update parameters for matplotlib\n",
    "params = {\"text.usetex\": True,\n",
    "          'font.size' : 12,\n",
    "          \"text.latex.unicode\": True,\n",
    "          \"axes.unicode_minus\": True,\n",
    "          'xtick.color': 'black',\n",
    "          'ytick.color': 'black',\n",
    "          'axes.labelcolor': \"black\"\n",
    "         \n",
    "         }\n",
    "plt.rcParams.update(params)\n",
    "#mpl.rcParams['axes.linewidth'] = 0.3\n",
    "#mpl.rcParams['axes.edgecolor'] = grey\n",
    "#mpl.rcParams['xtick.color'] = grey\n",
    "#mpl.rcParams['ytick.color'] = grey\n",
    "#mpl.rcParams['axes.labelcolor'] = \"black\""
   ]
  },
  {
   "cell_type": "code",
   "execution_count": 2,
   "metadata": {
    "scrolled": false
   },
   "outputs": [
    {
     "data": {
      "image/png": "[encoded data removed]",
      "text/plain": [
       "<Figure size 520.272x130.068 with 3 Axes>"
      ]
     },
     "metadata": {},
     "output_type": "display_data"
    }
   ],
   "source": [
    "\n",
    "\n",
    "fig, axes = plt.subplots(ncols=3, nrows=1)\n",
    "\n",
    "left  = 0.125  # the left side of the subplots of the figure\n",
    "right = 0.9    # the right side of the subplots of the figure\n",
    "bottom = 0.1   # the bottom of the subplots of the figure\n",
    "top = 0.9      # the top of the subplots of the figure\n",
    "wspace = 0.35   # the amount of width reserved for space between subplots,\n",
    "               # expressed as a fraction of the average axis width\n",
    "hspace = 0.2   # the amount of height reserved for space between subplots,\n",
    "               # expressed as a fraction of the average axis height\n",
    "plt.subplots_adjust(left, bottom, right, top,\n",
    "                wspace, hspace)\n",
    "# fig height and width in inch\n",
    "fig.set_figheight(7.226/4)\n",
    "fig.set_figwidth(7.226)\n",
    "ax1, ax2, ax3 = axes.ravel()\n",
    "\n",
    "\n",
    "x = np.linspace(-6, 6)\n",
    "\n",
    "\n",
    "ax1.yaxis.set_major_formatter(FormatStrFormatter('%g'))\n",
    "ax1.set_xlabel('$z$')\n",
    "ax1.set_ylabel('$\\sigma(z)$')\n",
    "ax1.set_title('Sigmoid',fontsize=12)\n",
    "ax1.plot(x, 1 / (1 + np.exp(-x)),color = 'blue' )\n",
    "ax1.text(-6.5,0.8,r'$ \\sigma(z) = \\frac{1}{1+e^{-z}}$')\n",
    "\n",
    "\n",
    "\n",
    "ax2.yaxis.set_major_formatter(FormatStrFormatter('%g'))\n",
    "ax2.set_xlabel('$z$')\n",
    "ax2.set_ylabel('$\\sigma(z)$')\n",
    "ax2.set_title('TanH',fontsize=12)\n",
    "ax2.plot(x, np.tanh(x) ,color = 'blue' )\n",
    "ax2.text(-6.5,0.8,r'$ \\sigma(z) = \\!\\mathrm{tanh}(z)$',fontsize=10)\n",
    "\n",
    "\n",
    "\n",
    "\n",
    "\n",
    "ax3.yaxis.set_major_formatter(FormatStrFormatter('%g'))\n",
    "ax3.set_xlabel('$z$')\n",
    "ax3.set_ylabel('$\\sigma(z)$')\n",
    "ax3.set_title('ReLU',fontsize=12)\n",
    "ax3.plot(x, np.maximum(x, 0) ,color = 'blue' )\n",
    "ax3.text(-5,4.5,r'$\\sigma (z) = \\mathrm{max}(z,0)$',fontsize=10)\n",
    "#\\left\\{\\begin{array}{lll} 0 &  \\textrm{if} & z < 0 \\\\z & \\textrm{if} & z \\geq 0\\\\ \\end{array}\\right. \n",
    "plt.draw()\n",
    "plt.savefig(\"ActivationFunction.pdf\", \n",
    "            #This is simple recomendation for publication plots\n",
    "            dpi=1000, \n",
    "            # Plot will be occupy a maximum of available space\n",
    "            bbox_inches='tight', \n",
    "            )\n",
    "plt.show()"
   ]
  },
  {
   "cell_type": "code",
   "execution_count": null,
   "metadata": {
    "collapsed": true
   },
   "outputs": [],
   "source": []
  }
 ],
 "metadata": {
  "kernelspec": {
   "display_name": "Inception",
   "language": "python",
   "name": "inception"
  },
  "language_info": {
   "codemirror_mode": {
    "name": "ipython",
    "version": 3
   },
   "file_extension": ".py",
   "mimetype": "text/x-python",
   "name": "python",
   "nbconvert_exporter": "python",
   "pygments_lexer": "ipython3",
   "version": "3.6.3"
  },
  "toc": {
   "colors": {
    "hover_highlight": "#DAA520",
    "navigate_num": "#000000",
    "navigate_text": "#333333",
    "running_highlight": "#FF0000",
    "selected_highlight": "#FFD700",
    "sidebar_border": "#EEEEEE",
    "wrapper_background": "#FFFFFF"
   },
   "moveMenuLeft": true,
   "nav_menu": {
    "height": "12px",
    "width": "252px"
   },
   "navigate_menu": true,
   "number_sections": true,
   "sideBar": true,
   "threshold": 4,
   "toc_cell": true,
   "toc_section_display": "block",
   "toc_window_display": false,
   "widenNotebook": false
  },
  "varInspector": {
   "cols": {
    "lenName": 16,
    "lenType": 16,
    "lenVar": 40
   },
   "kernels_config": {
    "python": {
     "delete_cmd_postfix": "",
     "delete_cmd_prefix": "del ",
     "library": "var_list.py",
     "varRefreshCmd": "print(var_dic_list())"
    },
    "r": {
     "delete_cmd_postfix": ") ",
     "delete_cmd_prefix": "rm(",
     "library": "var_list.r",
     "varRefreshCmd": "cat(var_dic_list()) "
    }
   },
   "types_to_exclude": [
    "module",
    "function",
    "builtin_function_or_method",
    "instance",
    "_Feature"
   ],
   "window_display": false
  }
 },
 "nbformat": 4,
 "nbformat_minor": 2
}
